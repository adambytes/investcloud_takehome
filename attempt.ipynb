{
 "cells": [
  {
   "cell_type": "code",
   "execution_count": null,
   "metadata": {},
   "outputs": [],
   "source": []
  },
  {
   "cell_type": "code",
   "execution_count": null,
   "metadata": {},
   "outputs": [],
   "source": [
    "import cupy as cp\n",
    "import requests\n",
    "class API:\n",
    "    base = \"https://recruitment_test.investcloud.com/api/numbers\"\n",
    "    cols = {\n",
    "        \"A\": [],\n",
    "        \"B\": []\n",
    "    }\n",
    "    rows = {\n",
    "        \"A\": [],\n",
    "        \"B\": []\n",
    "    }\n",
    "    \n",
    "    def __init__(self, size):\n",
    "        self.size = size\n",
    "        requests.get(f\"{self.base}/init/{size}\")\n",
    "    \n",
    "    def getCols(self, matrix, col):\n",
    "        assert matrix == \"A\" or matrix == \"B\"\n",
    "        assert col >= 0 and col < self.size\n",
    "        return requests.get(f\"{self.base}/{matrix}\")\n",
    "    \n",
    "    def getRows(self, matrix, row):\n",
    "        assert matrix == \"A\" or matrix == \"B\"\n",
    "        assert row >= 0 and row < self.size\n",
    "        return requests.get(f\"{self.base}/{matrix}/{row}\")"
   ]
  }
 ],
 "metadata": {
  "language_info": {
   "name": "python"
  }
 },
 "nbformat": 4,
 "nbformat_minor": 2
}

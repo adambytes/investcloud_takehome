{
 "cells": [
  {
   "cell_type": "code",
   "execution_count": 49,
   "metadata": {},
   "outputs": [],
   "source": [
    "import cupy as cp\n",
    "import numpy as np\n",
    "import asyncio\n",
    "import hashlib\n",
    "import aiohttp\n",
    "import requests\n",
    "import json"
   ]
  },
  {
   "cell_type": "code",
   "execution_count": 60,
   "metadata": {},
   "outputs": [],
   "source": [
    "\n",
    "class API:\n",
    "    base = \"https://recruitment-test.investcloud.com/api/numbers\"\n",
    "    cache = {}\n",
    "    rows = []\n",
    "    col = []\n",
    "    result = []\n",
    "\n",
    "    def __init__(self, size):\n",
    "        self.size = size\n",
    "\n",
    "    async def __aenter__(self):\n",
    "        self.session = aiohttp.ClientSession()\n",
    "        return self\n",
    "    \n",
    "    async def __aexit__(self, exc_type, exc, tb):\n",
    "        await self.session.close()\n",
    "\n",
    "\n",
    "    async def initialize(self):\n",
    "        async with self.session.get(f\"{self.base}/init/{self.size}\") as response:\n",
    "            if response.status != 200:\n",
    "                await self.session.close()\n",
    "                raise aiohttp.ClientResponseError(response.request_info, response.history, code=response.status)\n",
    "            \n",
    "    async def _get_data(self, matrix: str, axis: str, idx: int) -> list[int]:\n",
    "        if matrix != \"A\" and matrix != \"B\":\n",
    "            raise ValueError(\"Invalid matrix\")\n",
    "        if axis != \"row\" and axis != \"col\":\n",
    "            raise ValueError(\"Invalid axis\")\n",
    "        if idx < 0 or idx >= self.size:\n",
    "            raise ValueError(\"Invalid column\")\n",
    "        \n",
    "        url = f\"{self.base}/{matrix}/{axis}/{idx}\"\n",
    "        async with self.session.get(url) as response:\n",
    "            data = await response.content.read()\n",
    "            return self.parse_list(data)\n",
    "    \n",
    "    async def main(self, strategy: int = 0):\n",
    "        result = cp.zeros((self.size, self.size))\n",
    "\n",
    "        await self.initialize()\n",
    "\n",
    "        row_tasks = [self._get_data(\"A\", \"row\", row) for row in range(self.size)]\n",
    "        col_tasks = [self._get_data(\"B\", \"col\", col) for col in range(self.size)]\n",
    "\n",
    "        self.rows, self.cols = await asyncio.gather(asyncio.gather(*row_tasks), asyncio.gather(*col_tasks))\n",
    "\n",
    "        self.rows = cp.array(self.rows)\n",
    "        self.cols = cp.array(self.cols).T\n",
    "        self.result = cp.matmul(self.rows, self.cols)\n",
    "\n",
    "        self.validate(self.get_hash(*result, strategy))\n",
    "\n",
    "        await self.session.close()\n",
    "\n",
    "        print({\n",
    "            \"hash\": self.get_hash(result, strategy),\n",
    "        })\n",
    "    \n",
    "    def get_hash(self, *solution, strategy: int = 0):\n",
    "        \n",
    "        if strategy == 0:\n",
    "            transpose = np.transpose(solution)\n",
    "            flatten = \"\".join([str(i) for i in transpose.flatten()])\n",
    "            return hashlib.md5(flatten.encode()).hexdigest()\n",
    "        elif strategy == 1:\n",
    "            flatten = \"\".join([str(i) for i in solution.flatten()])\n",
    "            return hashlib.md5(flatten.encode()).hexdigest()\n",
    "        elif strategy == 2:\n",
    "            flatten = \"\"\n",
    "            buffer = bytearray()\n",
    "            for row in range(self.size):\n",
    "                for col in range(self.size):\n",
    "                    flatten += str(solution[row][col])\n",
    "                    buffer.append(int(solution[row][col]))\n",
    "            \n",
    "            print(buffer)\n",
    "            print(hashlib.md5(buffer, usedforsecurity=False))\n",
    "            return hashlib.md5(buffer, usedforsecurity=False)\n",
    "    @staticmethod\n",
    "    def parse_list(data: bytes) -> list[int]:\n",
    "        start = data.find(b\"'Value': [\") + len(b\"'Value': [\") + 1\n",
    "        end = data.find(b\"]\", start)\n",
    "        value_b = data[start:end]\n",
    "        return list(map(int, value_b.split(b\",\")))\n",
    "    \n",
    "    def validate(self, hash):\n",
    "        header = {\n",
    "            \"Content-Type\": \"text/json; charset=utf-8\",\n",
    "            \n",
    "        }\n",
    "\n",
    "        payload = json.dumps(hash)\n",
    "        print(\"Payload\", payload)\n",
    "\n",
    "        try:\n",
    "            response = requests.post(f\"{self.base}/validate\", headers=header, json=hash)\n",
    "            response.raise_for_status()\n",
    "            if response.json()[\"Value\"] == \"Alas it didn't work\":\n",
    "                print(\"Incorrect!\", response.json())\n",
    "            else:\n",
    "                print(\"Correct!\", response.json())\n",
    "        except:\n",
    "            raise Exception(\"Failed to validate matrix\")\n",
    "        "
   ]
  },
  {
   "cell_type": "code",
   "execution_count": 53,
   "metadata": {},
   "outputs": [
    {
     "ename": "ValueError",
     "evalue": "byte must be in range(0, 256)",
     "output_type": "error",
     "traceback": [
      "\u001b[0;31m---------------------------------------------------------------------------\u001b[0m",
      "\u001b[0;31mValueError\u001b[0m                                Traceback (most recent call last)",
      "\u001b[1;32m/home/adamliang/TakeHomes/ibm_backend_takehome/attempt.ipynb Cell 3\u001b[0m line \u001b[0;36m2\n\u001b[1;32m      <a href='vscode-notebook-cell:/home/adamliang/TakeHomes/ibm_backend_takehome/attempt.ipynb#X10sZmlsZQ%3D%3D?line=0'>1</a>\u001b[0m \u001b[39masync\u001b[39;00m \u001b[39mwith\u001b[39;00m API(\u001b[39m1000\u001b[39m) \u001b[39mas\u001b[39;00m api:\n\u001b[0;32m----> <a href='vscode-notebook-cell:/home/adamliang/TakeHomes/ibm_backend_takehome/attempt.ipynb#X10sZmlsZQ%3D%3D?line=1'>2</a>\u001b[0m     \u001b[39mawait\u001b[39;00m api\u001b[39m.\u001b[39mmain(strategy\u001b[39m=\u001b[39m\u001b[39m2\u001b[39m)\n",
      "\u001b[1;32m/home/adamliang/TakeHomes/ibm_backend_takehome/attempt.ipynb Cell 3\u001b[0m line \u001b[0;36m5\n\u001b[1;32m     <a href='vscode-notebook-cell:/home/adamliang/TakeHomes/ibm_backend_takehome/attempt.ipynb#X10sZmlsZQ%3D%3D?line=47'>48</a>\u001b[0m \u001b[39mself\u001b[39m\u001b[39m.\u001b[39mcols \u001b[39m=\u001b[39m cp\u001b[39m.\u001b[39marray(\u001b[39mself\u001b[39m\u001b[39m.\u001b[39mcols)\u001b[39m.\u001b[39mT\n\u001b[1;32m     <a href='vscode-notebook-cell:/home/adamliang/TakeHomes/ibm_backend_takehome/attempt.ipynb#X10sZmlsZQ%3D%3D?line=48'>49</a>\u001b[0m result \u001b[39m=\u001b[39m cp\u001b[39m.\u001b[39mmatmul(\u001b[39mself\u001b[39m\u001b[39m.\u001b[39mrows, \u001b[39mself\u001b[39m\u001b[39m.\u001b[39mcols)\n\u001b[0;32m---> <a href='vscode-notebook-cell:/home/adamliang/TakeHomes/ibm_backend_takehome/attempt.ipynb#X10sZmlsZQ%3D%3D?line=50'>51</a>\u001b[0m \u001b[39mself\u001b[39m\u001b[39m.\u001b[39mvalidate(\u001b[39mself\u001b[39;49m\u001b[39m.\u001b[39;49mget_hash(result, strategy))\n\u001b[1;32m     <a href='vscode-notebook-cell:/home/adamliang/TakeHomes/ibm_backend_takehome/attempt.ipynb#X10sZmlsZQ%3D%3D?line=52'>53</a>\u001b[0m \u001b[39mawait\u001b[39;00m \u001b[39mself\u001b[39m\u001b[39m.\u001b[39msession\u001b[39m.\u001b[39mclose()\n\u001b[1;32m     <a href='vscode-notebook-cell:/home/adamliang/TakeHomes/ibm_backend_takehome/attempt.ipynb#X10sZmlsZQ%3D%3D?line=54'>55</a>\u001b[0m \u001b[39mprint\u001b[39m({\n\u001b[1;32m     <a href='vscode-notebook-cell:/home/adamliang/TakeHomes/ibm_backend_takehome/attempt.ipynb#X10sZmlsZQ%3D%3D?line=55'>56</a>\u001b[0m     \u001b[39m\"\u001b[39m\u001b[39mhash\u001b[39m\u001b[39m\"\u001b[39m: \u001b[39mself\u001b[39m\u001b[39m.\u001b[39mget_hash(result, strategy),\n\u001b[1;32m     <a href='vscode-notebook-cell:/home/adamliang/TakeHomes/ibm_backend_takehome/attempt.ipynb#X10sZmlsZQ%3D%3D?line=56'>57</a>\u001b[0m })\n",
      "\u001b[1;32m/home/adamliang/TakeHomes/ibm_backend_takehome/attempt.ipynb Cell 3\u001b[0m line \u001b[0;36m7\n\u001b[1;32m     <a href='vscode-notebook-cell:/home/adamliang/TakeHomes/ibm_backend_takehome/attempt.ipynb#X10sZmlsZQ%3D%3D?line=72'>73</a>\u001b[0m     \u001b[39mfor\u001b[39;00m col \u001b[39min\u001b[39;00m \u001b[39mrange\u001b[39m(\u001b[39mself\u001b[39m\u001b[39m.\u001b[39msize):\n\u001b[1;32m     <a href='vscode-notebook-cell:/home/adamliang/TakeHomes/ibm_backend_takehome/attempt.ipynb#X10sZmlsZQ%3D%3D?line=73'>74</a>\u001b[0m         flatten \u001b[39m+\u001b[39m\u001b[39m=\u001b[39m \u001b[39mstr\u001b[39m(solution[row][col])\n\u001b[0;32m---> <a href='vscode-notebook-cell:/home/adamliang/TakeHomes/ibm_backend_takehome/attempt.ipynb#X10sZmlsZQ%3D%3D?line=74'>75</a>\u001b[0m         buffer\u001b[39m.\u001b[39;49mappend(\u001b[39mint\u001b[39;49m(solution[row][col]))\n\u001b[1;32m     <a href='vscode-notebook-cell:/home/adamliang/TakeHomes/ibm_backend_takehome/attempt.ipynb#X10sZmlsZQ%3D%3D?line=76'>77</a>\u001b[0m \u001b[39mprint\u001b[39m(buffer)\n\u001b[1;32m     <a href='vscode-notebook-cell:/home/adamliang/TakeHomes/ibm_backend_takehome/attempt.ipynb#X10sZmlsZQ%3D%3D?line=77'>78</a>\u001b[0m \u001b[39mprint\u001b[39m(hashlib\u001b[39m.\u001b[39mmd5(buffer, usedforsecurity\u001b[39m=\u001b[39m\u001b[39mFalse\u001b[39;00m))\n",
      "\u001b[0;31mValueError\u001b[0m: byte must be in range(0, 256)"
     ]
    }
   ],
   "source": [
    "async with API(1000) as api:\n",
    "    await api.main(strategy=2)"
   ]
  },
  {
   "cell_type": "code",
   "execution_count": 58,
   "metadata": {},
   "outputs": [
    {
     "name": "stdout",
     "output_type": "stream",
     "text": [
      "Payload \"bd9b53444bbdf5be62433c895dc86b03\"\n",
      "Incorrect! {'Value': \"Alas it didn't work\", 'Cause': None, 'Success': True}\n",
      "{'hash': 'bd9b53444bbdf5be62433c895dc86b03'}\n"
     ]
    }
   ],
   "source": [
    "api = API(10)\n",
    "await api.__aenter__()\n",
    "await api.main(strategy=0)\n"
   ]
  },
  {
   "cell_type": "code",
   "execution_count": 59,
   "metadata": {},
   "outputs": [
    {
     "ename": "AttributeError",
     "evalue": "'API' object has no attribute 'result'",
     "output_type": "error",
     "traceback": [
      "\u001b[0;31m---------------------------------------------------------------------------\u001b[0m",
      "\u001b[0;31mAttributeError\u001b[0m                            Traceback (most recent call last)",
      "\u001b[1;32m/home/adamliang/TakeHomes/ibm_backend_takehome/attempt.ipynb Cell 5\u001b[0m line \u001b[0;36m1\n\u001b[0;32m----> <a href='vscode-notebook-cell:/home/adamliang/TakeHomes/ibm_backend_takehome/attempt.ipynb#X20sZmlsZQ%3D%3D?line=0'>1</a>\u001b[0m api\u001b[39m.\u001b[39;49mresult\n",
      "\u001b[0;31mAttributeError\u001b[0m: 'API' object has no attribute 'result'"
     ]
    }
   ],
   "source": [
    "api.result"
   ]
  },
  {
   "cell_type": "code",
   "execution_count": null,
   "metadata": {},
   "outputs": [],
   "source": [
    "await api.__aexit__(None, None, None)"
   ]
  },
  {
   "cell_type": "code",
   "execution_count": null,
   "metadata": {},
   "outputs": [],
   "source": [
    "import requests\n",
    "\n",
    "url = \"https://recruitment-test.investcloud.com/api/numbers/A/row/0\"\n",
    "data = requests.get(url).json()[\"Value\"]\n",
    "api_row = api.rows[0]\n",
    "\n",
    "for x, y in zip(data, api_row):\n",
    "    if x != y:\n",
    "        print(x, y)"
   ]
  }
 ],
 "metadata": {
  "kernelspec": {
   "display_name": "base",
   "language": "python",
   "name": "python3"
  },
  "language_info": {
   "codemirror_mode": {
    "name": "ipython",
    "version": 3
   },
   "file_extension": ".py",
   "mimetype": "text/x-python",
   "name": "python",
   "nbconvert_exporter": "python",
   "pygments_lexer": "ipython3",
   "version": "3.11.3"
  }
 },
 "nbformat": 4,
 "nbformat_minor": 2
}

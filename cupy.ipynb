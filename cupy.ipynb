{
 "cells": [
  {
   "cell_type": "code",
   "execution_count": 2,
   "metadata": {},
   "outputs": [
    {
     "name": "stdout",
     "output_type": "stream",
     "text": [
      "Collecting package metadata (current_repodata.json): done\n",
      "Solving environment: done\n",
      "\n",
      "# All requested packages already installed.\n",
      "\n",
      "\n",
      "Note: you may need to restart the kernel to use updated packages.\n",
      "[[0.38178176 0.53381975 0.40480332]\n",
      " [0.35461437 0.99977566 0.95454968]\n",
      " [0.5409445  0.89678207 0.82735926]]\n",
      "[[0.482182   0.78946866 0.82897321]\n",
      " [0.73203431 1.33197376 1.30512586]\n",
      " [0.77269501 1.3262214  1.37520364]]\n"
     ]
    }
   ],
   "source": [
    "%conda install -y -c conda-forge cupy\n",
    "\n",
    "# Testing cupy\n",
    "import cupy as cp\n",
    "\n",
    "# Create a 2d array shape(3,3) with random values\n",
    "\n",
    "a = cp.random.rand(3,3)\n",
    "print(a)\n",
    "b = cp.random.rand(3,3)\n",
    "\n",
    "# Matrix multiplication\n",
    "c = cp.matmul(a,b)\n",
    "print(c)"
   ]
  }
 ],
 "metadata": {
  "kernelspec": {
   "display_name": "base",
   "language": "python",
   "name": "python3"
  },
  "language_info": {
   "codemirror_mode": {
    "name": "ipython",
    "version": 3
   },
   "file_extension": ".py",
   "mimetype": "text/x-python",
   "name": "python",
   "nbconvert_exporter": "python",
   "pygments_lexer": "ipython3",
   "version": "3.11.3"
  }
 },
 "nbformat": 4,
 "nbformat_minor": 2
}

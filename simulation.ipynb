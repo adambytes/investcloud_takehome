{
 "cells": [
  {
   "cell_type": "code",
   "execution_count": 17,
   "metadata": {},
   "outputs": [],
   "source": [
    "import numpy as np\n",
    "import cupy as cp\n",
    "import asyncio\n",
    "import hashlib\n",
    "\n",
    "class API:\n",
    "    def __init__(self, size, int_range=(1, 10)):\n",
    "        self.size = size\n",
    "        self.matrices = []\n",
    "        self.matrices.append(\n",
    "            np.random.randint(int_range[0], int_range[1], (size, size))\n",
    "        )\n",
    "        self.matrices.append(\n",
    "            np.random.randint(int_range[0], int_range[1], (size, size))\n",
    "        )\n",
    "        self.count = 0\n",
    "        self.analytics: list[tuple[int, int, int]] = []\n",
    "\n",
    "    def clear(self):\n",
    "        self.count = 0\n",
    "\n",
    "    async def call(self, endpoint):\n",
    "        self.count += 1\n",
    "        endpoint = endpoint.split(\"/\")\n",
    "        matrix = int(endpoint[1])\n",
    "        type = endpoint[2]\n",
    "        index = int(endpoint[3])\n",
    "        \n",
    "        await asyncio.sleep(0.01)\n",
    "\n",
    "        return self.getRow(matrix, index) if type == \"row\" else self.getCol(matrix, index)\n",
    "\n",
    "    def getRow(self, matrix, row) -> list[int]:\n",
    "        return self.matrices[matrix][row, :]\n",
    "\n",
    "    def getCol(self, matrix, col) -> list[int]:\n",
    "        return self.matrices[matrix][:, col]\n",
    "    \n",
    "    def getHash(self):\n",
    "        answer = np.dot(self.matrices[0], self.matrices[1])\n",
    "        flattened = answer.flatten()\n",
    "        joined = \"\".join([str(x) for x in flattened])\n",
    "        return hashlib.md5(joined.encode()).hexdigest()\n",
    "    \n",
    "def calcHash(matrix):\n",
    "    flattened = matrix.flatten()\n",
    "    joined = \"\".join([str(x) for x in flattened])\n",
    "    return hashlib.md5(joined.encode()).hexdigest()\n"
   ]
  },
  {
   "cell_type": "code",
   "execution_count": 18,
   "metadata": {},
   "outputs": [
    {
     "data": {
      "text/plain": [
       "'62d23d9590376000adfd2bfdfe85764f'"
      ]
     },
     "execution_count": 18,
     "metadata": {},
     "output_type": "execute_result"
    }
   ],
   "source": [
    "api = API(1000)\n",
    "api.getHash()"
   ]
  },
  {
   "cell_type": "code",
   "execution_count": 19,
   "metadata": {},
   "outputs": [
    {
     "name": "stdout",
     "output_type": "stream",
     "text": [
      "62d23d9590376000adfd2bfdfe85764f\n",
      "62d23d9590376000adfd2bfdfe85764f\n",
      "2000\n"
     ]
    }
   ],
   "source": [
    "async def fetch_compute(api, size):\n",
    "    \n",
    "    result = cp.zeros((size, size), dtype=int)\n",
    "\n",
    "    row_tasks = [asyncio.ensure_future(api.call(f\"/0/row/{i}\")) for i in range(size)]\n",
    "    col_tasks = [asyncio.ensure_future(api.call(f\"/1/col/{i}\")) for i in range(size)]\n",
    "\n",
    "    rows: list[int] = await asyncio.gather(*row_tasks)\n",
    "    cols: list[int] = await asyncio.gather(*col_tasks)\n",
    "\n",
    "    # Converting rows and cols to CuPy arrays\n",
    "    rows = cp.array(rows)\n",
    "    # Transpose cols to make it easier to iterate\n",
    "    cols = cp.array(cols).T\n",
    "\n",
    "    result = cp.matmul(rows, cols)\n",
    "    return result\n",
    "\n",
    "async def compute_cell(a, b, col, row, result):\n",
    "    # print(f\"Computing cell {row}, {col}: {a} * {b} = {cp.matmul(a, b)}\")\n",
    "    result[row, col] = cp.matmul(a, b)\n",
    "\n",
    "size = api.size\n",
    "result = await fetch_compute(api, size)\n",
    "# print(cp.asnumpy(result))\n",
    "print(calcHash(cp.asnumpy(result)))\n",
    "# print(np.dot(api.matrices[0], api.matrices[1]))\n",
    "print(api.getHash())\n",
    "print(api.count)\n",
    "\n",
    "api.clear()"
   ]
  },
  {
   "cell_type": "code",
   "execution_count": 23,
   "metadata": {},
   "outputs": [
    {
     "name": "stdout",
     "output_type": "stream",
     "text": [
      "62d23d9590376000adfd2bfdfe85764f\n",
      "62d23d9590376000adfd2bfdfe85764f\n",
      "2000\n"
     ]
    }
   ],
   "source": [
    "# Using numpy to see if there is a difference\n",
    "\n",
    "async def fetch_compute_np(api, size):\n",
    "    result = cp.zeros((size, size), dtype=int)\n",
    "\n",
    "    row_tasks = [asyncio.ensure_future(api.call(f\"/0/row/{i}\")) for i in range(size)]\n",
    "    col_tasks = [asyncio.ensure_future(api.call(f\"/1/col/{i}\")) for i in range(size)]\n",
    "\n",
    "    rows = await asyncio.gather(*row_tasks)  \n",
    "    cols = await asyncio.gather(*col_tasks)\n",
    "    \n",
    "    rows = np.array(rows)\n",
    "    cols = np.array(cols).T\n",
    "\n",
    "    result = np.matmul(rows, cols)\n",
    "    return result\n",
    "\n",
    "np_result = await fetch_compute_np(api, size)\n",
    "print(calcHash(np_result))\n",
    "print(api.getHash())\n",
    "print(api.count)\n",
    "\n",
    "api.clear()"
   ]
  },
  {
   "cell_type": "code",
   "execution_count": 20,
   "metadata": {},
   "outputs": [
    {
     "data": {
      "text/plain": [
       "-8738621016486670724"
      ]
     },
     "execution_count": 20,
     "metadata": {},
     "output_type": "execute_result"
    }
   ],
   "source": [
    "api.matrices\n",
    "\n",
    "validation = np.dot(api.matrices[0], api.matrices[1])\n",
    "hash(validation.tobytes())"
   ]
  },
  {
   "cell_type": "code",
   "execution_count": 21,
   "metadata": {},
   "outputs": [
    {
     "name": "stdout",
     "output_type": "stream",
     "text": [
      "0\n"
     ]
    }
   ],
   "source": [
    "print(api.count)"
   ]
  },
  {
   "cell_type": "code",
   "execution_count": null,
   "metadata": {},
   "outputs": [
    {
     "data": {
      "text/plain": [
       "array([[0.85307433, 0.86669397, 0.65647558],\n",
       "       [0.01481618, 0.5762393 , 0.35083939],\n",
       "       [0.42792569, 0.34421946, 0.58111142]])"
      ]
     },
     "execution_count": 36,
     "metadata": {},
     "output_type": "execute_result"
    }
   ],
   "source": [
    "test = np.random.rand(3, 3)\n",
    "test"
   ]
  },
  {
   "cell_type": "code",
   "execution_count": null,
   "metadata": {},
   "outputs": [
    {
     "data": {
      "text/plain": [
       "0.25"
      ]
     },
     "execution_count": 50,
     "metadata": {},
     "output_type": "execute_result"
    }
   ],
   "source": [
    "z = np.array([[0.5, 0.2],[0.3, 0.7]])\n",
    "x= np.array([[0.6, 0.4], [0.1, 0.9]])\n",
    "np.dot(z, x)\n",
    "# np.dot(z, x).tobytes()\n",
    "# hash(np.dot(z, x).tobytes())\n",
    "\n",
    "np.dot(z[0, :], x[:, 0])\n",
    "np.dot(z[0, :], x[:, 1])\n",
    "np.dot(z[1, :], x[:, 0])"
   ]
  }
 ],
 "metadata": {
  "kernelspec": {
   "display_name": "base",
   "language": "python",
   "name": "python3"
  },
  "language_info": {
   "codemirror_mode": {
    "name": "ipython",
    "version": 3
   },
   "file_extension": ".py",
   "mimetype": "text/x-python",
   "name": "python",
   "nbconvert_exporter": "python",
   "pygments_lexer": "ipython3",
   "version": "3.11.3"
  }
 },
 "nbformat": 4,
 "nbformat_minor": 2
}

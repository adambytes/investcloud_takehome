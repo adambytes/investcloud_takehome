{
 "cells": [
  {
   "cell_type": "code",
   "execution_count": 95,
   "metadata": {},
   "outputs": [],
   "source": [
    "import numpy as np\n",
    "import cupy as cp\n",
    "import asyncio\n",
    "import hashlib\n",
    "\n",
    "class API:\n",
    "    def __init__(self, size, int_range=(1, 10)):\n",
    "        self.matrices = []\n",
    "        self.matrices.append(\n",
    "            np.random.randint(int_range[0], int_range[1], (size, size))\n",
    "        )\n",
    "        self.matrices.append(\n",
    "            np.random.randint(int_range[0], int_range[1], (size, size))\n",
    "        )\n",
    "        self.count = 0\n",
    "        self.analytics: list[tuple[int, int, int]] = []\n",
    "\n",
    "    def clear(self):\n",
    "        self.count = 0\n",
    "\n",
    "    async def call(self, endpoint):\n",
    "        self.count += 1\n",
    "        endpoint = endpoint.split(\"/\")\n",
    "        matrix = int(endpoint[1])\n",
    "        type = endpoint[2]\n",
    "        index = int(endpoint[3])\n",
    "        \n",
    "        await asyncio.sleep(0.01)\n",
    "\n",
    "        return self.getRow(matrix, index) if type == \"row\" else self.getCol(matrix, index)\n",
    "\n",
    "    def getRow(self, matrix, row):\n",
    "        return self.matrices[matrix][row, :]\n",
    "\n",
    "    def getCol(self, matrix, col):\n",
    "        return self.matrices[matrix][:, col]\n",
    "    \n",
    "    def getHash(self):\n",
    "        answer = np.dot(self.matrices[0], self.matrices[1])\n",
    "        flattened = answer.flatten()\n",
    "        joined = \"\".join([str(x) for x in flattened])\n",
    "        return hashlib.sha256(joined.encode()).hexdigest()\n"
   ]
  },
  {
   "cell_type": "code",
   "execution_count": 96,
   "metadata": {},
   "outputs": [
    {
     "data": {
      "text/plain": [
       "'246148129'"
      ]
     },
     "execution_count": 96,
     "metadata": {},
     "output_type": "execute_result"
    }
   ],
   "source": [
    "api = API(2)\n",
    "api.getHash()"
   ]
  },
  {
   "cell_type": "code",
   "execution_count": 97,
   "metadata": {},
   "outputs": [],
   "source": [
    "def calcHash(matrix):\n",
    "    flattened = matrix.flatten()\n",
    "    joined = \"\".join([str(x) for x in flattened])\n",
    "    # return hashlib.sha256(joined.encode()).hexdigest()\n",
    "    return joined"
   ]
  },
  {
   "cell_type": "code",
   "execution_count": 98,
   "metadata": {},
   "outputs": [
    {
     "name": "stdout",
     "output_type": "stream",
     "text": [
      "Computing cell 0, 0: [2 5] * [2 4]\n",
      "Computing cell 1, 0: [2 5] * [8 9]\n",
      "Computing cell 0, 1: [6 9] * [2 4]\n",
      "Computing cell 1, 1: [6 9] * [8 9]\n",
      "[[ 24  48]\n",
      " [ 61 129]]\n",
      "244861129\n",
      "246148129\n",
      "4\n"
     ]
    }
   ],
   "source": [
    "async def fetch_compute(api, size):\n",
    "    \n",
    "    result = cp.zeros((size, size), dtype=cp.int32)\n",
    "    row_tasks = [asyncio.ensure_future(api.call(f\"/0/row/{i}\")) for i in range(size)]\n",
    "    col_tasks = [asyncio.ensure_future(api.call(f\"/1/col/{i}\")) for i in range(size)]\n",
    "\n",
    "    rows = await asyncio.gather(*row_tasks)\n",
    "    cols = await asyncio.gather(*col_tasks)\n",
    "\n",
    "    # Converting rows and cols to CuPy arrays\n",
    "    rows = cp.array(rows)\n",
    "    cols = cp.array(cols)\n",
    "\n",
    "    compute_tasks = []\n",
    "\n",
    "    for i in range(size):\n",
    "        for j in range(size):\n",
    "            task = asyncio.ensure_future(compute_cell(rows[i], cols[j], i, j, result))\n",
    "            compute_tasks.append(task)\n",
    "\n",
    "    await asyncio.gather(*compute_tasks)\n",
    "    return result\n",
    "\n",
    "async def compute_cell(a, b, col, row, result):\n",
    "    print(f\"Computing cell {row}, {col}: {a} * {b}\")\n",
    "    result[row, col] = cp.asarray(int(cp.dot(a, b)))\n",
    "\n",
    "size = 2\n",
    "result = await fetch_compute(api, size)\n",
    "print(cp.asnumpy(result))\n",
    "print(calcHash(cp.asnumpy(result)))\n",
    "print(api.getHash())\n",
    "print(api.count)\n",
    "\n",
    "api.clear()"
   ]
  },
  {
   "cell_type": "code",
   "execution_count": 99,
   "metadata": {},
   "outputs": [
    {
     "data": {
      "text/plain": [
       "-3281430838408129304"
      ]
     },
     "execution_count": 99,
     "metadata": {},
     "output_type": "execute_result"
    }
   ],
   "source": [
    "api.matrices\n",
    "\n",
    "validation = np.dot(api.matrices[0], api.matrices[1])\n",
    "hash(validation.tobytes())"
   ]
  },
  {
   "cell_type": "code",
   "execution_count": 100,
   "metadata": {},
   "outputs": [
    {
     "name": "stdout",
     "output_type": "stream",
     "text": [
      "0\n"
     ]
    }
   ],
   "source": [
    "print(api.count)"
   ]
  },
  {
   "cell_type": "code",
   "execution_count": 101,
   "metadata": {},
   "outputs": [
    {
     "name": "stdout",
     "output_type": "stream",
     "text": [
      "-8152908661501143930\n"
     ]
    },
    {
     "ename": "AttributeError",
     "evalue": "'API' object has no attribute 'hash'",
     "output_type": "error",
     "traceback": [
      "\u001b[0;31m---------------------------------------------------------------------------\u001b[0m",
      "\u001b[0;31mAttributeError\u001b[0m                            Traceback (most recent call last)",
      "\u001b[1;32m/home/adamliang/TakeHomes/ibm_backend_takehome/notebook.ipynb Cell 7\u001b[0m line \u001b[0;36m4\n\u001b[1;32m      <a href='vscode-notebook-cell:/home/adamliang/TakeHomes/ibm_backend_takehome/notebook.ipynb#W5sZmlsZQ%3D%3D?line=0'>1</a>\u001b[0m result_hash \u001b[39m=\u001b[39m \u001b[39mhash\u001b[39m(result\u001b[39m.\u001b[39mtobytes())\n\u001b[1;32m      <a href='vscode-notebook-cell:/home/adamliang/TakeHomes/ibm_backend_takehome/notebook.ipynb#W5sZmlsZQ%3D%3D?line=1'>2</a>\u001b[0m \u001b[39mprint\u001b[39m(result_hash)\n\u001b[0;32m----> <a href='vscode-notebook-cell:/home/adamliang/TakeHomes/ibm_backend_takehome/notebook.ipynb#W5sZmlsZQ%3D%3D?line=3'>4</a>\u001b[0m \u001b[39mprint\u001b[39m(api\u001b[39m.\u001b[39;49mhash)\n",
      "\u001b[0;31mAttributeError\u001b[0m: 'API' object has no attribute 'hash'"
     ]
    }
   ],
   "source": [
    "result_hash = hash(result.tobytes())\n",
    "print(result_hash)\n",
    "\n",
    "print(api.hash)"
   ]
  },
  {
   "cell_type": "code",
   "execution_count": null,
   "metadata": {},
   "outputs": [
    {
     "data": {
      "text/plain": [
       "array([[0.85307433, 0.86669397, 0.65647558],\n",
       "       [0.01481618, 0.5762393 , 0.35083939],\n",
       "       [0.42792569, 0.34421946, 0.58111142]])"
      ]
     },
     "execution_count": 36,
     "metadata": {},
     "output_type": "execute_result"
    }
   ],
   "source": [
    "test = np.random.rand(3, 3)\n",
    "test"
   ]
  },
  {
   "cell_type": "code",
   "execution_count": null,
   "metadata": {},
   "outputs": [
    {
     "data": {
      "text/plain": [
       "0.25"
      ]
     },
     "execution_count": 50,
     "metadata": {},
     "output_type": "execute_result"
    }
   ],
   "source": [
    "z = np.array([[0.5, 0.2],[0.3, 0.7]])\n",
    "x= np.array([[0.6, 0.4], [0.1, 0.9]])\n",
    "np.dot(z, x)\n",
    "# np.dot(z, x).tobytes()\n",
    "# hash(np.dot(z, x).tobytes())\n",
    "\n",
    "np.dot(z[0, :], x[:, 0])\n",
    "np.dot(z[0, :], x[:, 1])\n",
    "np.dot(z[1, :], x[:, 0])"
   ]
  }
 ],
 "metadata": {
  "kernelspec": {
   "display_name": "base",
   "language": "python",
   "name": "python3"
  },
  "language_info": {
   "codemirror_mode": {
    "name": "ipython",
    "version": 3
   },
   "file_extension": ".py",
   "mimetype": "text/x-python",
   "name": "python",
   "nbconvert_exporter": "python",
   "pygments_lexer": "ipython3",
   "version": "3.11.3"
  }
 },
 "nbformat": 4,
 "nbformat_minor": 2
}
